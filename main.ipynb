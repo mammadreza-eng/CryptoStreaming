{
 "cells": [
  {
   "cell_type": "markdown",
   "metadata": {},
   "source": [
    "Load libraries"
   ]
  },
  {
   "cell_type": "code",
   "execution_count": 1,
   "metadata": {},
   "outputs": [],
   "source": [
    "from typing import Final\n",
    "import requests as rq\n",
    "import uuid\n",
    "import time\n",
    "\n",
    "from pyspark.sql import SparkSession\n",
    "import pyspark.sql.functions as F\n",
    "import pyspark.sql.types as T\n",
    "\n",
    "from PyBrif import pybrief"
   ]
  },
  {
   "cell_type": "markdown",
   "metadata": {},
   "source": [
    "Initialize"
   ]
  },
  {
   "cell_type": "code",
   "execution_count": 2,
   "metadata": {},
   "outputs": [],
   "source": [
    "BINANCE_TICKER: Final[str] = \"https://www.binance.com/api/v3/ticker/price\"\n",
    "LOG_PATH: Final[str] = r\"C:\\\\CryptoLog\\\\\"\n",
    "API_INTERVAL_SEC: Final[int] = 3\n",
    "STREAM_INTERVAL_SEC: Final[int] = 6"
   ]
  },
  {
   "cell_type": "markdown",
   "metadata": {},
   "source": [
    "Create a thread to get and save all price as the producer"
   ]
  },
  {
   "cell_type": "code",
   "execution_count": 3,
   "metadata": {},
   "outputs": [],
   "source": [
    "class StreamREST(pybrief.Thread):\n",
    "    def __init__(self, url: str, intervalSec: int=1, savePath: str=\"\", ext: str=\".json\") -> None:\n",
    "        super(StreamREST, self).__init__(intervalSec)\n",
    "        self.__url = url\n",
    "        self.__savePath = savePath\n",
    "        self.__ext = ext\n",
    "\n",
    "    def getFilename(self) -> str:\n",
    "        return self.__savePath + str(uuid.uuid4()) + self.__ext\n",
    "    \n",
    "    def getRequest(self) -> str:\n",
    "        return rq.get(self.__url).text\n",
    "    \n",
    "    def save(self):\n",
    "        with open(self.getFilename(), \"w\") as f:\n",
    "            f.write(self.getRequest())\n",
    "            f.close\n",
    "\n",
    "    def execute(self):\n",
    "        self.save()\n",
    "\n",
    "priceCollector = StreamREST(url=BINANCE_TICKER, savePath=LOG_PATH, intervalSec=API_INTERVAL_SEC)\n",
    "priceCollector.start()"
   ]
  },
  {
   "cell_type": "markdown",
   "metadata": {},
   "source": [
    "Fire Spark and create a Spark Session"
   ]
  },
  {
   "cell_type": "code",
   "execution_count": 4,
   "metadata": {},
   "outputs": [
    {
     "name": "stdout",
     "output_type": "stream",
     "text": [
      "Spark Version: 3.2.1\n"
     ]
    }
   ],
   "source": [
    "spark = SparkSession.builder.getOrCreate()\n",
    "print('Spark Version: ' + spark.version)"
   ]
  },
  {
   "cell_type": "markdown",
   "metadata": {},
   "source": [
    "Set corresponding streaming options"
   ]
  },
  {
   "cell_type": "code",
   "execution_count": 5,
   "metadata": {},
   "outputs": [],
   "source": [
    "tickerSchema = T.StructType([T.StructField(\"price\", T.StringType(), True),T.StructField(\"symbol\", T.StringType(), True)])\n",
    "tickerStream = spark.readStream.schema(tickerSchema).option(\"maxFilePerTrigger\", 1).json(LOG_PATH)"
   ]
  },
  {
   "cell_type": "markdown",
   "metadata": {},
   "source": [
    "Apply transformation and create the stream"
   ]
  },
  {
   "cell_type": "code",
   "execution_count": 6,
   "metadata": {},
   "outputs": [
    {
     "name": "stdout",
     "output_type": "stream",
     "text": [
      "isStreaming -->  True\n"
     ]
    }
   ],
   "source": [
    "tickerStream = tickerStream.filter(tickerStream.symbol.isin([\"BTCUSDT\", \"DOGEUSDT\", \"ICPUSDT\", \"AXSUSDT\", \"SOLUSDT\"]))\n",
    "print('isStreaming --> ', tickerStream.isStreaming)\n",
    "streamingQuery = tickerStream.writeStream.queryName(\"vwTicker\").format(\"memory\").outputMode(\"append\")"
   ]
  },
  {
   "cell_type": "markdown",
   "metadata": {},
   "source": [
    "Start streaming from log to the streamed DF"
   ]
  },
  {
   "cell_type": "code",
   "execution_count": 7,
   "metadata": {},
   "outputs": [
    {
     "name": "stdout",
     "output_type": "stream",
     "text": [
      "Count -->  0\n",
      "+-------+--------------+--------+\n",
      "| symbol|         price|countAll|\n",
      "+-------+--------------+--------+\n",
      "|BTCUSDT|30190.40000000|       4|\n",
      "|ICPUSDT|    8.43000000|       4|\n",
      "+-------+--------------+--------+\n",
      "\n",
      "Count -->  2\n",
      "+-------+--------------+--------+\n",
      "| symbol|         price|countAll|\n",
      "+-------+--------------+--------+\n",
      "|BTCUSDT|30190.41000000|       7|\n",
      "|ICPUSDT|    8.44000000|       7|\n",
      "+-------+--------------+--------+\n",
      "\n",
      "Count -->  2\n",
      "+-------+--------------+--------+\n",
      "| symbol|         price|countAll|\n",
      "+-------+--------------+--------+\n",
      "|BTCUSDT|30190.41000000|       9|\n",
      "|ICPUSDT|    8.44000000|       9|\n",
      "+-------+--------------+--------+\n",
      "\n",
      "Count -->  2\n",
      "+-------+--------------+--------+\n",
      "| symbol|         price|countAll|\n",
      "+-------+--------------+--------+\n",
      "|BTCUSDT|30190.41000000|      10|\n",
      "|ICPUSDT|    8.44000000|      10|\n",
      "+-------+--------------+--------+\n",
      "\n",
      "Count -->  2\n",
      "+-------+--------------+--------+\n",
      "| symbol|         price|countAll|\n",
      "+-------+--------------+--------+\n",
      "|BTCUSDT|30190.41000000|      11|\n",
      "|ICPUSDT|    8.44000000|      11|\n",
      "+-------+--------------+--------+\n",
      "\n",
      "Count -->  2\n",
      "+-------+--------------+--------+\n",
      "| symbol|         price|countAll|\n",
      "+-------+--------------+--------+\n",
      "|BTCUSDT|30201.68000000|      12|\n",
      "|ICPUSDT|    8.44000000|      12|\n",
      "+-------+--------------+--------+\n",
      "\n",
      "Count -->  2\n",
      "+-------+--------------+--------+\n",
      "| symbol|         price|countAll|\n",
      "+-------+--------------+--------+\n",
      "|BTCUSDT|30202.47000000|      14|\n",
      "|ICPUSDT|    8.44000000|      14|\n",
      "+-------+--------------+--------+\n",
      "\n",
      "Count -->  2\n",
      "+-------+--------------+--------+\n",
      "| symbol|         price|countAll|\n",
      "+-------+--------------+--------+\n",
      "|BTCUSDT|30202.47000000|      15|\n",
      "|ICPUSDT|    8.44000000|      15|\n",
      "+-------+--------------+--------+\n",
      "\n",
      "Count -->  2\n",
      "+-------+--------------+--------+\n",
      "| symbol|         price|countAll|\n",
      "+-------+--------------+--------+\n",
      "|BTCUSDT|30205.68000000|      17|\n",
      "|ICPUSDT|    8.44000000|      17|\n",
      "+-------+--------------+--------+\n",
      "\n"
     ]
    }
   ],
   "source": [
    "streamingQuery.start()\n",
    "\n",
    "class SparkStream(pybrief.Thread):\n",
    "    def execute(self):\n",
    "        _df = spark.sql(\"\"\"SELECT symbol, MAX(price) price, COUNT(*) AS countAll\n",
    "                             FROM vwTicker\n",
    "                            WHERE symbol IN ('BTCUSDT', 'ICPUSDT')\n",
    "                            GROUP BY symbol\"\"\")\n",
    "        \n",
    "        print(\"Count --> \", _df.count())\n",
    "        if (_df.count() > 0):\n",
    "            _df.show(10)\n",
    "\n",
    "checkStreamedData = SparkStream(intervalSec=STREAM_INTERVAL_SEC)\n",
    "checkStreamedData.start()\n",
    "\n",
    "time.sleep(60) # Keep the app running to see the result for 1 min\n",
    "\n",
    "priceCollector.kill()\n",
    "checkStreamedData.kill()"
   ]
  }
 ],
 "metadata": {
  "interpreter": {
   "hash": "3559b3e1a36d89b829b421bdd4c215cff2a6e01e61d6dd9f86c9e3e54fcf7135"
  },
  "kernelspec": {
   "display_name": "Python 3.10.4 64-bit",
   "language": "python",
   "name": "python3"
  },
  "language_info": {
   "codemirror_mode": {
    "name": "ipython",
    "version": 3
   },
   "file_extension": ".py",
   "mimetype": "text/x-python",
   "name": "python",
   "nbconvert_exporter": "python",
   "pygments_lexer": "ipython3",
   "version": "3.10.4"
  },
  "orig_nbformat": 4
 },
 "nbformat": 4,
 "nbformat_minor": 2
}
